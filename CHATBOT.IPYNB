{
 "cells": [
  {
   "cell_type": "code",
   "execution_count": 2,
   "metadata": {},
   "outputs": [
    {
     "name": "stdout",
     "output_type": "stream",
     "text": [
      "Bot: Hello! How can I assist you today?\n",
      "Bot: I'm sorry, I didn't understand that. Can you please rephrase?\n",
      "Bot: I am a simple rule-based chatbot created to assist you.\n",
      "Bot: I'm just a bot, but I'm here to help! How about you?\n",
      "Bot: Goodbye! Have a great day!\n"
     ]
    }
   ],
   "source": [
    "def chatbot_response(user_input):\n",
    "    # Convert user input to lowercase to ensure case-insensitive matching\n",
    "    user_input = user_input.lower()\n",
    "\n",
    "    # Predefined rules: key is the possible input, value is the response\n",
    "    responses = {\n",
    "        \"hi\": \"Hello! How can I assist you today?\",\n",
    "        \"hello\": \"Hi there! What can I do for you?\",\n",
    "        \"how are you?\": \"I'm just a bot, but I'm here to help! How about you?\",\n",
    "        \"what is your name?\": \"I am a simple rule-based chatbot created to assist you.\",\n",
    "        \"who are you?\": \"I am a simple rule-based chatbot created to assist you.\",\n",
    "        \"bye\": \"Goodbye! Have a great day!\",\n",
    "    }\n",
    "\n",
    "    # Pattern matching using if-else\n",
    "    if user_input in responses:\n",
    "        return responses[user_input]\n",
    "    else:\n",
    "        return \"I'm sorry, I didn't understand that. Can you please rephrase?\"\n",
    "\n",
    "# Example conversation\n",
    "while True:\n",
    "    user_input = input(\"You: \")\n",
    "    if user_input.lower() == \"bye\":\n",
    "        print(\"Bot: Goodbye! Have a great day!\")\n",
    "        break\n",
    "    else:\n",
    "        print(\"Bot:\", chatbot_response(user_input))\n"
   ]
  },
  {
   "cell_type": "code",
   "execution_count": 3,
   "metadata": {},
   "outputs": [
    {
     "name": "stdout",
     "output_type": "stream",
     "text": [
      "Chatbot: Hello! How can I help you?\n",
      "Chatbot: I am a rule-based chatbot.\n",
      "Chatbot: Goodbye! Have a great day!\n",
      "Chatbot: Goodbye!\n"
     ]
    }
   ],
   "source": [
    "import re\n",
    "\n",
    "def rule_based_chatbot(input_text):\n",
    "    \n",
    "    rules = {\n",
    "        r'hello|hi|hey': 'Hello! How can I help you?',\n",
    "        r'how are you': 'I am a chatbot. I don\\'t have feelings, but thanks for asking!',\n",
    "        r'bye|goodbye': 'Goodbye! Have a great day!',\n",
    "        r'what is your name': 'I am a rule-based chatbot.',\n",
    "        r'(\\w+) weather': 'I\\'m sorry, I cannot provide real-time weather information.',\n",
    "        r'default': 'I\\'m not sure how to respond to that.'\n",
    "    }\n",
    "\n",
    "    \n",
    "    for pattern, response in rules.items():\n",
    "        if re.search(pattern, input_text, re.IGNORECASE):\n",
    "            return response\n",
    "\n",
    "    \n",
    "    return rules['default']\n",
    "\n",
    "\n",
    "while True:\n",
    "    user_input = input(\"You: \")\n",
    "    \n",
    "    \n",
    "    if user_input.lower() == 'exit':\n",
    "        print(\"Chatbot: Goodbye!\")\n",
    "        break\n",
    "    \n",
    "    \n",
    "    bot_response = rule_based_chatbot(user_input)\n",
    "    print(\"Chatbot:\", bot_response)"
   ]
  },
  {
   "cell_type": "code",
   "execution_count": null,
   "metadata": {},
   "outputs": [],
   "source": []
  }
 ],
 "metadata": {
  "kernelspec": {
   "display_name": ".venv",
   "language": "python",
   "name": "python3"
  },
  "language_info": {
   "codemirror_mode": {
    "name": "ipython",
    "version": 3
   },
   "file_extension": ".py",
   "mimetype": "text/x-python",
   "name": "python",
   "nbconvert_exporter": "python",
   "pygments_lexer": "ipython3",
   "version": "3.12.4"
  }
 },
 "nbformat": 4,
 "nbformat_minor": 2
}
